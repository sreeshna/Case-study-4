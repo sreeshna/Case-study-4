{
 "cells": [
  {
   "cell_type": "code",
   "execution_count": 1,
   "id": "f0d247b4",
   "metadata": {},
   "outputs": [],
   "source": [
    "import pandas as pd\n",
    "import scipy.stats as sp"
   ]
  },
  {
   "cell_type": "code",
   "execution_count": 2,
   "id": "7b0ba661",
   "metadata": {},
   "outputs": [
    {
     "data": {
      "text/html": [
       "<div>\n",
       "<style scoped>\n",
       "    .dataframe tbody tr th:only-of-type {\n",
       "        vertical-align: middle;\n",
       "    }\n",
       "\n",
       "    .dataframe tbody tr th {\n",
       "        vertical-align: top;\n",
       "    }\n",
       "\n",
       "    .dataframe thead th {\n",
       "        text-align: right;\n",
       "    }\n",
       "</style>\n",
       "<table border=\"1\" class=\"dataframe\">\n",
       "  <thead>\n",
       "    <tr style=\"text-align: right;\">\n",
       "      <th></th>\n",
       "      <th>Month</th>\n",
       "      <th>Region</th>\n",
       "      <th>Manager</th>\n",
       "      <th>Sales_before_digital_add(in $)</th>\n",
       "      <th>Sales_After_digital_add(in $)</th>\n",
       "    </tr>\n",
       "  </thead>\n",
       "  <tbody>\n",
       "    <tr>\n",
       "      <th>0</th>\n",
       "      <td>Month-1</td>\n",
       "      <td>Region - A</td>\n",
       "      <td>Manager - A</td>\n",
       "      <td>132921</td>\n",
       "      <td>270390</td>\n",
       "    </tr>\n",
       "    <tr>\n",
       "      <th>1</th>\n",
       "      <td>Month-2</td>\n",
       "      <td>Region - A</td>\n",
       "      <td>Manager - C</td>\n",
       "      <td>149559</td>\n",
       "      <td>223334</td>\n",
       "    </tr>\n",
       "    <tr>\n",
       "      <th>2</th>\n",
       "      <td>Month-3</td>\n",
       "      <td>Region - B</td>\n",
       "      <td>Manager - A</td>\n",
       "      <td>146278</td>\n",
       "      <td>244243</td>\n",
       "    </tr>\n",
       "    <tr>\n",
       "      <th>3</th>\n",
       "      <td>Month-4</td>\n",
       "      <td>Region - B</td>\n",
       "      <td>Manager - B</td>\n",
       "      <td>152167</td>\n",
       "      <td>231808</td>\n",
       "    </tr>\n",
       "    <tr>\n",
       "      <th>4</th>\n",
       "      <td>Month-5</td>\n",
       "      <td>Region - C</td>\n",
       "      <td>Manager - B</td>\n",
       "      <td>159525</td>\n",
       "      <td>258402</td>\n",
       "    </tr>\n",
       "    <tr>\n",
       "      <th>5</th>\n",
       "      <td>Month-6</td>\n",
       "      <td>Region - A</td>\n",
       "      <td>Manager - B</td>\n",
       "      <td>137163</td>\n",
       "      <td>256948</td>\n",
       "    </tr>\n",
       "    <tr>\n",
       "      <th>6</th>\n",
       "      <td>Month-7</td>\n",
       "      <td>Region - C</td>\n",
       "      <td>Manager - C</td>\n",
       "      <td>130625</td>\n",
       "      <td>222106</td>\n",
       "    </tr>\n",
       "    <tr>\n",
       "      <th>7</th>\n",
       "      <td>Month-8</td>\n",
       "      <td>Region - A</td>\n",
       "      <td>Manager - A</td>\n",
       "      <td>131140</td>\n",
       "      <td>230637</td>\n",
       "    </tr>\n",
       "    <tr>\n",
       "      <th>8</th>\n",
       "      <td>Month-9</td>\n",
       "      <td>Region - B</td>\n",
       "      <td>Manager - C</td>\n",
       "      <td>171259</td>\n",
       "      <td>226261</td>\n",
       "    </tr>\n",
       "    <tr>\n",
       "      <th>9</th>\n",
       "      <td>Month-10</td>\n",
       "      <td>Region - C</td>\n",
       "      <td>Manager - B</td>\n",
       "      <td>141956</td>\n",
       "      <td>193735</td>\n",
       "    </tr>\n",
       "  </tbody>\n",
       "</table>\n",
       "</div>"
      ],
      "text/plain": [
       "      Month      Region      Manager  Sales_before_digital_add(in $)  \\\n",
       "0   Month-1  Region - A  Manager - A                          132921   \n",
       "1   Month-2  Region - A  Manager - C                          149559   \n",
       "2   Month-3  Region - B  Manager - A                          146278   \n",
       "3   Month-4  Region - B  Manager - B                          152167   \n",
       "4   Month-5  Region - C  Manager - B                          159525   \n",
       "5   Month-6  Region - A  Manager - B                          137163   \n",
       "6   Month-7  Region - C  Manager - C                          130625   \n",
       "7   Month-8  Region - A  Manager - A                          131140   \n",
       "8   Month-9  Region - B  Manager - C                          171259   \n",
       "9  Month-10  Region - C  Manager - B                          141956   \n",
       "\n",
       "   Sales_After_digital_add(in $)  \n",
       "0                         270390  \n",
       "1                         223334  \n",
       "2                         244243  \n",
       "3                         231808  \n",
       "4                         258402  \n",
       "5                         256948  \n",
       "6                         222106  \n",
       "7                         230637  \n",
       "8                         226261  \n",
       "9                         193735  "
      ]
     },
     "execution_count": 2,
     "metadata": {},
     "output_type": "execute_result"
    }
   ],
   "source": [
    "df = pd.read_csv(\"Sales_add.csv\")\n",
    "df.head(10)"
   ]
  },
  {
   "cell_type": "markdown",
   "id": "2f8c2563",
   "metadata": {},
   "source": [
    "df.isnull().sum()"
   ]
  },
  {
   "cell_type": "markdown",
   "id": "ad99cd07",
   "metadata": {},
   "source": [
    "#H0: There is no increase in sales after stepping into Digital Marketing\n",
    "#H1: There is increase in sales after stepping into Digital Markrting"
   ]
  },
  {
   "cell_type": "code",
   "execution_count": 5,
   "id": "5aea7dc9",
   "metadata": {},
   "outputs": [],
   "source": [
    "t1 = sp.ttest_rel(df[\"Sales_before_digital_add(in $)\"],df[\"Sales_After_digital_add(in $)\"],alternative = \"less\")"
   ]
  },
  {
   "cell_type": "code",
   "execution_count": 6,
   "id": "1a457761",
   "metadata": {},
   "outputs": [
    {
     "data": {
      "text/plain": [
       "Ttest_relResult(statistic=-12.09070525287017, pvalue=3.168333502287889e-11)"
      ]
     },
     "execution_count": 6,
     "metadata": {},
     "output_type": "execute_result"
    }
   ],
   "source": [
    "t1"
   ]
  },
  {
   "cell_type": "code",
   "execution_count": 7,
   "id": "e3e2ed3f",
   "metadata": {},
   "outputs": [
    {
     "name": "stdout",
     "output_type": "stream",
     "text": [
      "count        22.000000\n",
      "mean     149239.954545\n",
      "std       14844.042921\n",
      "min      130263.000000\n",
      "25%      138087.750000\n",
      "50%      147444.000000\n",
      "75%      157627.500000\n",
      "max      178939.000000\n",
      "Name: Sales_before_digital_add(in $), dtype: float64\n",
      "count        22.000000\n",
      "mean     231123.727273\n",
      "std       25556.777061\n",
      "min      187305.000000\n",
      "25%      214960.750000\n",
      "50%      229986.500000\n",
      "75%      250909.000000\n",
      "max      276279.000000\n",
      "Name: Sales_After_digital_add(in $), dtype: float64\n"
     ]
    }
   ],
   "source": [
    "print(df[\"Sales_before_digital_add(in $)\"].describe())\n",
    "print(df[\"Sales_After_digital_add(in $)\"].describe())"
   ]
  },
  {
   "cell_type": "code",
   "execution_count": 8,
   "id": "f9f5afba",
   "metadata": {},
   "outputs": [],
   "source": [
    "#The pvalue is 3.168333502287889*e^-11 which is less than 0.05 we can reject the null hypothesis and conclude that the sales increased after stepping into digital marketing"
   ]
  },
  {
   "cell_type": "code",
   "execution_count": 9,
   "id": "a2ea51e4",
   "metadata": {},
   "outputs": [],
   "source": [
    "#check whether there is any dependency between thefeatures “Region” and “Manager”"
   ]
  },
  {
   "cell_type": "code",
   "execution_count": 10,
   "id": "40b4a8a4",
   "metadata": {},
   "outputs": [],
   "source": [
    "#H0: There is no dependency between thefeatures “Region” and “Manager”\n",
    "#H1: There is dependency between thefeatures “Region” and “Manager”"
   ]
  },
  {
   "cell_type": "code",
   "execution_count": 11,
   "id": "9fd9ffd7",
   "metadata": {},
   "outputs": [
    {
     "data": {
      "text/html": [
       "<div>\n",
       "<style scoped>\n",
       "    .dataframe tbody tr th:only-of-type {\n",
       "        vertical-align: middle;\n",
       "    }\n",
       "\n",
       "    .dataframe tbody tr th {\n",
       "        vertical-align: top;\n",
       "    }\n",
       "\n",
       "    .dataframe thead th {\n",
       "        text-align: right;\n",
       "    }\n",
       "</style>\n",
       "<table border=\"1\" class=\"dataframe\">\n",
       "  <thead>\n",
       "    <tr style=\"text-align: right;\">\n",
       "      <th>Manager</th>\n",
       "      <th>Manager - A</th>\n",
       "      <th>Manager - B</th>\n",
       "      <th>Manager - C</th>\n",
       "    </tr>\n",
       "    <tr>\n",
       "      <th>Region</th>\n",
       "      <th></th>\n",
       "      <th></th>\n",
       "      <th></th>\n",
       "    </tr>\n",
       "  </thead>\n",
       "  <tbody>\n",
       "    <tr>\n",
       "      <th>Region - A</th>\n",
       "      <td>4</td>\n",
       "      <td>3</td>\n",
       "      <td>3</td>\n",
       "    </tr>\n",
       "    <tr>\n",
       "      <th>Region - B</th>\n",
       "      <td>4</td>\n",
       "      <td>1</td>\n",
       "      <td>2</td>\n",
       "    </tr>\n",
       "    <tr>\n",
       "      <th>Region - C</th>\n",
       "      <td>1</td>\n",
       "      <td>3</td>\n",
       "      <td>1</td>\n",
       "    </tr>\n",
       "  </tbody>\n",
       "</table>\n",
       "</div>"
      ],
      "text/plain": [
       "Manager     Manager - A  Manager - B  Manager - C\n",
       "Region                                           \n",
       "Region - A            4            3            3\n",
       "Region - B            4            1            2\n",
       "Region - C            1            3            1"
      ]
     },
     "execution_count": 11,
     "metadata": {},
     "output_type": "execute_result"
    }
   ],
   "source": [
    "crosstab = pd.crosstab(df[\"Region\"], df[\"Manager\"])\n",
    "crosstab"
   ]
  },
  {
   "cell_type": "code",
   "execution_count": 12,
   "id": "495a9919",
   "metadata": {},
   "outputs": [
    {
     "data": {
      "text/plain": [
       "(3.050566893424036,\n",
       " 0.5493991051158094,\n",
       " 4,\n",
       " array([[4.09090909, 3.18181818, 2.72727273],\n",
       "        [2.86363636, 2.22727273, 1.90909091],\n",
       "        [2.04545455, 1.59090909, 1.36363636]]))"
      ]
     },
     "execution_count": 12,
     "metadata": {},
     "output_type": "execute_result"
    }
   ],
   "source": [
    "sp.chi2_contingency(crosstab)"
   ]
  },
  {
   "cell_type": "code",
   "execution_count": null,
   "id": "026e9438",
   "metadata": {},
   "outputs": [],
   "source": [
    "#Since pvalue we got( 0.549 ) was higher than 0.05. So we can't reject the null hypothesis H0, so we can conclude that there is no dependency between thefeatures “Region” and “Manager”"
   ]
  }
 ],
 "metadata": {
  "kernelspec": {
   "display_name": "Python 3",
   "language": "python",
   "name": "python3"
  },
  "language_info": {
   "codemirror_mode": {
    "name": "ipython",
    "version": 3
   },
   "file_extension": ".py",
   "mimetype": "text/x-python",
   "name": "python",
   "nbconvert_exporter": "python",
   "pygments_lexer": "ipython3",
   "version": "3.8.8"
  }
 },
 "nbformat": 4,
 "nbformat_minor": 5
}
